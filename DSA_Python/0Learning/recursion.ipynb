{
 "cells": [
  {
   "cell_type": "code",
   "execution_count": 6,
   "metadata": {},
   "outputs": [
    {
     "name": "stdout",
     "output_type": "stream",
     "text": [
      "1\n"
     ]
    }
   ],
   "source": [
    "def fibonnaci(n):\n",
    "    if n==1:\n",
    "        return 0;\n",
    "    elif n==2 or n==3:\n",
    "        return 1;\n",
    "    else:\n",
    "        return fibonnaci(n-2)+fibonnaci(n-1)\n",
    "\n",
    "print(fibonnaci(2)) \n"
   ]
  },
  {
   "cell_type": "code",
   "execution_count": null,
   "metadata": {},
   "outputs": [],
   "source": [
    "def fibonnaci(n):\n",
    "    for i in range(n):\n",
    "        if n==1:\n",
    "            print(0)\n",
    "        if n==2 or n==3:\n",
    "            print(1)\n",
    "        \n",
    "\n",
    "print(fibonnaci(2)) "
   ]
  }
 ],
 "metadata": {
  "interpreter": {
   "hash": "7f26f0d64356e9fca9f79f9dc6ae50ccaf7f056a95c7b1f521359e62ca7396e4"
  },
  "kernelspec": {
   "display_name": "Python 3.10.1 64-bit",
   "language": "python",
   "name": "python3"
  },
  "language_info": {
   "codemirror_mode": {
    "name": "ipython",
    "version": 3
   },
   "file_extension": ".py",
   "mimetype": "text/x-python",
   "name": "python",
   "nbconvert_exporter": "python",
   "pygments_lexer": "ipython3",
   "version": "3.10.1"
  },
  "orig_nbformat": 4
 },
 "nbformat": 4,
 "nbformat_minor": 2
}
