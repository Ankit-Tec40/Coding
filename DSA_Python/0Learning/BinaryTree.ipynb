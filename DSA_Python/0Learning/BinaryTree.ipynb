{
 "cells": [
  {
   "cell_type": "code",
   "execution_count": null,
   "metadata": {},
   "outputs": [],
   "source": [
    "#linked list\n",
    "\n",
    "\"\"\"\n",
    "operations\n",
    "-creation\n",
    "-insertion\n",
    "-deletion\n",
    "-traversal\n",
    "-deletion of tree\n",
    "\"\"\""
   ]
  },
  {
   "cell_type": "code",
   "execution_count": 6,
   "metadata": {},
   "outputs": [],
   "source": [
    "class node:\n",
    "    def __init__(self,data=None):\n",
    "        self.data=data\n",
    "        self.left=None\n",
    "        self.right=None\n",
    "# class Tree:\n",
    "#     def __init__(self):\n",
    "#         self.root=None\n",
    "# tree=Tree()\n",
    "# tree.root=node(\"drink\")\n",
    "node1=node(\"drink\")\n",
    "node1.left=node(\"cofee\")\n",
    "node1.right=node(\"tea\")\n",
    "node1.left.left=node(\"cold\")\n",
    "node1.left.right=node(\"hot\")\n",
    "node1.right.left=node(\"cold\")\n",
    "node1.right.right=node(\"hot\")\n"
   ]
  },
  {
   "cell_type": "code",
   "execution_count": null,
   "metadata": {},
   "outputs": [],
   "source": [
    "#traverse"
   ]
  },
  {
   "cell_type": "code",
   "execution_count": null,
   "metadata": {},
   "outputs": [],
   "source": [
    "#DFS"
   ]
  },
  {
   "cell_type": "code",
   "execution_count": 12,
   "metadata": {},
   "outputs": [
    {
     "name": "stdout",
     "output_type": "stream",
     "text": [
      "drink\n",
      "cofee\n",
      "cold\n",
      "hot\n",
      "tea\n",
      "cold\n",
      "hot\n"
     ]
    }
   ],
   "source": [
    "#preorder\n",
    "def preorder(root):#--->tc+sc=o(n)\n",
    "    if root==None:\n",
    "        return\n",
    "    print(root.data)\n",
    "    preorder(root.left)\n",
    "    preorder(root.right)\n",
    "preorder(node1)"
   ]
  },
  {
   "cell_type": "code",
   "execution_count": null,
   "metadata": {},
   "outputs": [],
   "source": [
    "#level order traversal\n",
    "def levelorder1(node):\n",
    "    "
   ]
  }
 ],
 "metadata": {
  "interpreter": {
   "hash": "7f26f0d64356e9fca9f79f9dc6ae50ccaf7f056a95c7b1f521359e62ca7396e4"
  },
  "kernelspec": {
   "display_name": "Python 3.10.1 64-bit",
   "language": "python",
   "name": "python3"
  },
  "language_info": {
   "codemirror_mode": {
    "name": "ipython",
    "version": 3
   },
   "file_extension": ".py",
   "mimetype": "text/x-python",
   "name": "python",
   "nbconvert_exporter": "python",
   "pygments_lexer": "ipython3",
   "version": "3.10.1"
  },
  "orig_nbformat": 4
 },
 "nbformat": 4,
 "nbformat_minor": 2
}
