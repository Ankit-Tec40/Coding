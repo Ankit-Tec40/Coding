{
 "cells": [
  {
   "cell_type": "code",
   "execution_count": 1,
   "metadata": {},
   "outputs": [],
   "source": [
    "from heapq import *"
   ]
  },
  {
   "cell_type": "code",
   "execution_count": 2,
   "metadata": {},
   "outputs": [
    {
     "data": {
      "text/plain": [
       "[1, 2, 4, 5]"
      ]
     },
     "execution_count": 2,
     "metadata": {},
     "output_type": "execute_result"
    }
   ],
   "source": [
    "#min heap\n",
    "heap=[]\n",
    "heappush(heap,4)\n",
    "heappush(heap,5)\n",
    "heappush(heap,2)\n",
    "heappush(heap,1)\n",
    "heap"
   ]
  },
  {
   "cell_type": "code",
   "execution_count": 4,
   "metadata": {},
   "outputs": [
    {
     "data": {
      "text/plain": [
       "[-5, -4, -2, -1]"
      ]
     },
     "execution_count": 4,
     "metadata": {},
     "output_type": "execute_result"
    }
   ],
   "source": [
    "#max heap\n",
    "heap=[]\n",
    "heappush(heap,-4)\n",
    "heappush(heap,-5)\n",
    "heappush(heap,-2)\n",
    "heappush(heap,-1)\n",
    "heap"
   ]
  }
 ],
 "metadata": {
  "interpreter": {
   "hash": "6cd4fa4f7882b3d331e8acd558c05d4a59910d68a2a8b982642fb6c4cb5536a3"
  },
  "kernelspec": {
   "display_name": "Python 3.10.1 64-bit",
   "language": "python",
   "name": "python3"
  },
  "language_info": {
   "codemirror_mode": {
    "name": "ipython",
    "version": 3
   },
   "file_extension": ".py",
   "mimetype": "text/x-python",
   "name": "python",
   "nbconvert_exporter": "python",
   "pygments_lexer": "ipython3",
   "version": "3.10.1"
  },
  "orig_nbformat": 4
 },
 "nbformat": 4,
 "nbformat_minor": 2
}
