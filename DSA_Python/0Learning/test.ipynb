{
 "cells": [
  {
   "cell_type": "code",
   "execution_count": 12,
   "metadata": {},
   "outputs": [
    {
     "name": "stdout",
     "output_type": "stream",
     "text": [
      "False\n"
     ]
    }
   ],
   "source": [
    "def perfectSquare(n):\n",
    "    i = 1\n",
    "    while(i * i<= n):\n",
    "        if ((n % i == 0) and (n / i == i)):\n",
    "            return True\n",
    "        i = i + 1\n",
    "    return False\n",
    "        \n",
    "n=100000000000\n",
    "print(perfectSquare(n))"
   ]
  },
  {
   "cell_type": "code",
   "execution_count": null,
   "metadata": {},
   "outputs": [],
   "source": [
    "\n",
    "# using System;\n",
    "\n",
    "# public class Assignment {\n",
    "\n",
    "# \tstatic bool perfectSquare(int n)\n",
    "# \t{\n",
    "# \t\tfor (int i = 1; i * i <= n; i++) {\n",
    "\t\t    \n",
    "# \t\t\tif ((n % i == 0) && (n / i == i)) {\n",
    "# \t\t\t\treturn true;\n",
    "# \t\t\t}\n",
    "# \t\t}\n",
    "# \t\treturn false;\n",
    "# \t}\n",
    "\n",
    "# \tpublic static void Main()\n",
    "# \t{\n",
    "\n",
    "# \t\tint n = 36;\n",
    "\n",
    "# \t\tif (perfectSquare(n))\n",
    "# \t\t\tConsole.WriteLine(\"Perfect Square\");\n",
    "# \t\telse\n",
    "# \t\t\tConsole.WriteLine(\"Not Perfect Square\");\n",
    "# \t}\n",
    "# }"
   ]
  },
  {
   "cell_type": "code",
   "execution_count": null,
   "metadata": {},
   "outputs": [
    {
     "name": "stdout",
     "output_type": "stream",
     "text": [
      "6\n"
     ]
    }
   ],
   "source": [
    "maxChar=26\n",
    "def freqCheck(freq,k):\n",
    "    for i in range(0, maxChar):\n",
    "        if(freq[i] and freq[i] != k):\n",
    "            return False\n",
    "    return True\n",
    "\n",
    "def substrings(s,k):\n",
    "    ans=0\n",
    "    for i in range(len(s)):\n",
    "        freq=[0]*maxChar\n",
    "        for j in range(i,len(s)):\n",
    "            index = ord(s[j]) - ord('a')\n",
    "            freq[index] += 1\n",
    "            if(freq[index] > k):\n",
    "                break\n",
    "            elif(freq[index] == k and\n",
    "                freqCheck(freq, k) == True):\n",
    "                ans += 1\n",
    "    return ans\n",
    "s=\"aabbcc\"\n",
    "k=2\n",
    "print(substrings(s,k))"
   ]
  },
  {
   "cell_type": "code",
   "execution_count": 4,
   "metadata": {},
   "outputs": [
    {
     "name": "stdout",
     "output_type": "stream",
     "text": [
      "7\n"
     ]
    }
   ],
   "source": [
    "arr=[1,1,0,0,0,0,0,0,0,1,1,1,1,0,1,1,1,1,1,1,0,1]\n",
    "ans=0\n",
    "one=0\n",
    "zero=0\n",
    "for x in arr:\n",
    "    if x==0:\n",
    "        zero+=1\n",
    "        if(ans<zero):\n",
    "            ans=zero\n",
    "        one=0\n",
    "    else:\n",
    "        one+=1\n",
    "        if ans<one:\n",
    "            ans=one\n",
    "        zero=0\n",
    "\n",
    "print(ans)\n"
   ]
  },
  {
   "cell_type": "code",
   "execution_count": null,
   "metadata": {},
   "outputs": [],
   "source": [
    "arr=[2,4,6,8,3,11,30]\n",
    "money=20\n"
   ]
  }
 ],
 "metadata": {
  "interpreter": {
   "hash": "7f26f0d64356e9fca9f79f9dc6ae50ccaf7f056a95c7b1f521359e62ca7396e4"
  },
  "kernelspec": {
   "display_name": "Python 3.10.1 64-bit",
   "language": "python",
   "name": "python3"
  },
  "language_info": {
   "codemirror_mode": {
    "name": "ipython",
    "version": 3
   },
   "file_extension": ".py",
   "mimetype": "text/x-python",
   "name": "python",
   "nbconvert_exporter": "python",
   "pygments_lexer": "ipython3",
   "version": "3.10.1"
  },
  "orig_nbformat": 4
 },
 "nbformat": 4,
 "nbformat_minor": 2
}
