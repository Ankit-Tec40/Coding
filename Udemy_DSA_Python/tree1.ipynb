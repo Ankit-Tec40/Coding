{
 "cells": [
  {
   "cell_type": "code",
   "execution_count": 1,
   "metadata": {},
   "outputs": [],
   "source": [
    "# tree"
   ]
  },
  {
   "cell_type": "code",
   "execution_count": null,
   "metadata": {},
   "outputs": [],
   "source": [
    "# class TreeNode:\n",
    "#     def __init__(self,data,children=[]):\n",
    "#         self.data=data\n",
    "#         self.children=children\n",
    "\n",
    "#     def __str__(self,level=0):\n",
    "#         ret=\" \"*level+str(self.data)+\"\\n\"\n",
    "#         for child in self.children:\n",
    "#             ret+=child.__str__(level+1)\n",
    "#         return ret\n",
    "    \n",
    "#     def addChild(self.TreeNode):\n",
    "#         self.children.append(TreeNode)"
   ]
  },
  {
   "cell_type": "code",
   "execution_count": 4,
   "metadata": {},
   "outputs": [
    {
     "name": "stdout",
     "output_type": "stream",
     "text": [
      "electronics\n",
      " laptop\n",
      "  4gb\n",
      "  8gb\n",
      "\n"
     ]
    }
   ],
   "source": [
    "class TreeNode:\n",
    "    def __init__(self,data):\n",
    "        self.data=data\n",
    "        self.children=[]\n",
    "        self.parent=None\n",
    "\n",
    "    def addChild(self,child):\n",
    "        child.parent=self\n",
    "        self.children.append(child)\n",
    "\n",
    "    def __str__(self,level=0):\n",
    "        ret=\" \"*level+str(self.data)+\"\\n\"\n",
    "        for child in self.children:\n",
    "            ret+=child.__str__(level+1)\n",
    "        return ret\n",
    "\n",
    "\n",
    "root=TreeNode('electronics')\n",
    "laptop=TreeNode('laptop')\n",
    "ram4gb=TreeNode('4gb')\n",
    "ram8gb=TreeNode('8gb')\n",
    "\n",
    "root.addChild(laptop)\n",
    "laptop.addChild(ram4gb)\n",
    "laptop.addChild(ram8gb)\n",
    "\n",
    "\n",
    "print(root)"
   ]
  }
 ],
 "metadata": {
  "interpreter": {
   "hash": "6cd4fa4f7882b3d331e8acd558c05d4a59910d68a2a8b982642fb6c4cb5536a3"
  },
  "kernelspec": {
   "display_name": "Python 3.10.1 64-bit",
   "language": "python",
   "name": "python3"
  },
  "language_info": {
   "codemirror_mode": {
    "name": "ipython",
    "version": 3
   },
   "file_extension": ".py",
   "mimetype": "text/x-python",
   "name": "python",
   "nbconvert_exporter": "python",
   "pygments_lexer": "ipython3",
   "version": "3.10.1"
  },
  "orig_nbformat": 4
 },
 "nbformat": 4,
 "nbformat_minor": 2
}
