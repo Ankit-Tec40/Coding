{
 "cells": [
  {
   "cell_type": "code",
   "execution_count": null,
   "metadata": {},
   "outputs": [],
   "source": [
    "#stack witrh limited size\n",
    "class stack:\n",
    "    def __init__(self,maxsize):\n",
    "        self.maxsize=maxsize\n",
    "        self.list=[]\n",
    "    def __str__(self):\n",
    "        values=self.list.reverse()\n",
    "        values=[str(x) for x in self.list]\n",
    "        return '\\n'.join(values)\n",
    "\n"
   ]
  }
 ],
 "metadata": {
  "interpreter": {
   "hash": "6d363c9075f79c0679cce0058466c0ac8106f4c3829673be820d7c5d77a8ccf4"
  },
  "kernelspec": {
   "display_name": "Python 3.10.1 ('env': venv)",
   "language": "python",
   "name": "python3"
  },
  "language_info": {
   "name": "python",
   "version": "3.10.1"
  },
  "orig_nbformat": 4
 },
 "nbformat": 4,
 "nbformat_minor": 2
}
