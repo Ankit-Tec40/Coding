{
 "cells": [
  {
   "cell_type": "code",
   "execution_count": null,
   "metadata": {},
   "outputs": [],
   "source": [
    "#Linked list"
   ]
  },
  {
   "cell_type": "code",
   "execution_count": 4,
   "metadata": {},
   "outputs": [],
   "source": [
    "#create a node\n",
    "class node:\n",
    "    def __init__(self,val=None):\n",
    "        self.val=val\n",
    "        self.next=None"
   ]
  },
  {
   "cell_type": "code",
   "execution_count": 5,
   "metadata": {},
   "outputs": [],
   "source": [
    "#create Linked List\n",
    "class List:\n",
    "    def __init__(self):\n",
    "        self.head=None\n",
    "        self.tail=None"
   ]
  },
  {
   "cell_type": "code",
   "execution_count": 6,
   "metadata": {},
   "outputs": [],
   "source": [
    "# create list\n",
    "lst=List()\n",
    "n1=node(1)\n",
    "n2=node(2)\n",
    "n3=node(3)\n",
    "lst.head=n1\n",
    "lst.head.next=n2\n",
    "lst.head.next.next=n3\n"
   ]
  },
  {
   "cell_type": "code",
   "execution_count": 7,
   "metadata": {},
   "outputs": [
    {
     "name": "stdout",
     "output_type": "stream",
     "text": [
      "1\n",
      "2\n",
      "3\n"
     ]
    }
   ],
   "source": [
    "#print list\n",
    "ans=lst.head\n",
    "while(ans!=None):\n",
    "    print(ans.val)\n",
    "    ans=ans.next"
   ]
  }
 ],
 "metadata": {
  "interpreter": {
   "hash": "6cd4fa4f7882b3d331e8acd558c05d4a59910d68a2a8b982642fb6c4cb5536a3"
  },
  "kernelspec": {
   "display_name": "Python 3.10.1 64-bit",
   "language": "python",
   "name": "python3"
  },
  "language_info": {
   "codemirror_mode": {
    "name": "ipython",
    "version": 3
   },
   "file_extension": ".py",
   "mimetype": "text/x-python",
   "name": "python",
   "nbconvert_exporter": "python",
   "pygments_lexer": "ipython3",
   "version": "3.10.1"
  },
  "orig_nbformat": 4
 },
 "nbformat": 4,
 "nbformat_minor": 2
}
