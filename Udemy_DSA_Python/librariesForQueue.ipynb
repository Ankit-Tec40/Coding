{
 "cells": [
  {
   "cell_type": "code",
   "execution_count": null,
   "metadata": {},
   "outputs": [],
   "source": [
    "#for queue --> collections.deque class"
   ]
  },
  {
   "cell_type": "code",
   "execution_count": 1,
   "metadata": {},
   "outputs": [
    {
     "name": "stdout",
     "output_type": "stream",
     "text": [
      "deque(['3', '4', '5'], maxlen=3)\n"
     ]
    }
   ],
   "source": [
    "from collections import deque\n",
    "custque=deque(maxlen=3)\n",
    "custque.append(\"1\")\n",
    "custque.append(\"2\")\n",
    "custque.append(\"3\")\n",
    "custque.append(\"4\")\n",
    "custque.append(\"5\")\n",
    "\n",
    "print(custque)"
   ]
  },
  {
   "cell_type": "code",
   "execution_count": null,
   "metadata": {},
   "outputs": [],
   "source": [
    "#queue module"
   ]
  },
  {
   "cell_type": "code",
   "execution_count": 5,
   "metadata": {},
   "outputs": [
    {
     "name": "stdout",
     "output_type": "stream",
     "text": [
      "True\n",
      "False\n",
      "1\n"
     ]
    }
   ],
   "source": [
    "import queue as q\n",
    "cq=q.Queue(maxsize=5)\n",
    "print(cq.empty())\n",
    "cq.put(1)\n",
    "cq.put(2)\n",
    "cq.put(3)\n",
    "print(cq.full())\n",
    "\n",
    "print(cq.get())"
   ]
  },
  {
   "cell_type": "code",
   "execution_count": 6,
   "metadata": {},
   "outputs": [],
   "source": [
    "#multiprocessing model"
   ]
  },
  {
   "cell_type": "code",
   "execution_count": 7,
   "metadata": {},
   "outputs": [
    {
     "name": "stdout",
     "output_type": "stream",
     "text": [
      "1\n"
     ]
    }
   ],
   "source": [
    "from multiprocessing import Queue\n",
    "cq=Queue(maxsize=4)\n",
    "cq.put(1)\n",
    "cq.put(2)\n",
    "\n",
    "print(cq.get())"
   ]
  }
 ],
 "metadata": {
  "interpreter": {
   "hash": "6d363c9075f79c0679cce0058466c0ac8106f4c3829673be820d7c5d77a8ccf4"
  },
  "kernelspec": {
   "display_name": "Python 3.10.1 ('env': venv)",
   "language": "python",
   "name": "python3"
  },
  "language_info": {
   "codemirror_mode": {
    "name": "ipython",
    "version": 3
   },
   "file_extension": ".py",
   "mimetype": "text/x-python",
   "name": "python",
   "nbconvert_exporter": "python",
   "pygments_lexer": "ipython3",
   "version": "3.10.1"
  },
  "orig_nbformat": 4
 },
 "nbformat": 4,
 "nbformat_minor": 2
}
