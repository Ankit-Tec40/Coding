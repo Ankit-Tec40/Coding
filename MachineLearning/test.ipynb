{
 "cells": [
  {
   "cell_type": "code",
   "execution_count": 10,
   "metadata": {},
   "outputs": [
    {
     "name": "stdout",
     "output_type": "stream",
     "text": [
      "abcd\n"
     ]
    }
   ],
   "source": [
    "s=\"abcdaefghjik\"\n",
    "ans=\"\"\n",
    "temp=\"\"\n",
    "n=len(s)\n",
    "for x in range(n):\n",
    "    if s[x] in temp:\n",
    "        if(len(temp)>len(ans)):\n",
    "            ans=temp\n",
    "        i=temp.index(s[x])\n",
    "        temp=temp[i+1:]\n",
    "\n",
    "    if s[x] not in temp:\n",
    "        temp=temp+s[x]\n",
    "    \n",
    "print(ans)"
   ]
  }
 ],
 "metadata": {
  "interpreter": {
   "hash": "ea208b22ff7372fd4d3f508f4c273c0b559f3b7a3a54812fb068c75220049bc8"
  },
  "kernelspec": {
   "display_name": "Python 3.9.7 64-bit ('base': conda)",
   "language": "python",
   "name": "python3"
  },
  "language_info": {
   "codemirror_mode": {
    "name": "ipython",
    "version": 3
   },
   "file_extension": ".py",
   "mimetype": "text/x-python",
   "name": "python",
   "nbconvert_exporter": "python",
   "pygments_lexer": "ipython3",
   "version": "3.9.7"
  },
  "orig_nbformat": 4
 },
 "nbformat": 4,
 "nbformat_minor": 2
}
